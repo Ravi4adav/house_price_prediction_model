{
 "cells": [
  {
   "cell_type": "code",
   "execution_count": 33,
   "id": "83176160",
   "metadata": {},
   "outputs": [],
   "source": [
    "import pandas as pd\n",
    "import numpy as np\n",
    "import matplotlib.pyplot as plt\n",
    "import seaborn as sns\n",
    "from sklearn.model_selection import train_test_split\n",
    "from sklearn.preprocessing import LabelEncoder\n",
    "from sklearn.impute import KNNImputer\n",
    "from sklearn.preprocessing import StandardScaler\n",
    "from sklearn.feature_selection import SelectKBest,mutual_info_regression"
   ]
  },
  {
   "cell_type": "code",
   "execution_count": 34,
   "id": "7b9e9c40",
   "metadata": {},
   "outputs": [],
   "source": [
    "data= pd.read_csv('../Data/Chennai houseing sale.csv')"
   ]
  },
  {
   "cell_type": "code",
   "execution_count": 35,
   "id": "bede9095",
   "metadata": {},
   "outputs": [
    {
     "data": {
      "text/html": [
       "<div>\n",
       "<style scoped>\n",
       "    .dataframe tbody tr th:only-of-type {\n",
       "        vertical-align: middle;\n",
       "    }\n",
       "\n",
       "    .dataframe tbody tr th {\n",
       "        vertical-align: top;\n",
       "    }\n",
       "\n",
       "    .dataframe thead th {\n",
       "        text-align: right;\n",
       "    }\n",
       "</style>\n",
       "<table border=\"1\" class=\"dataframe\">\n",
       "  <thead>\n",
       "    <tr style=\"text-align: right;\">\n",
       "      <th></th>\n",
       "      <th>PRT_ID</th>\n",
       "      <th>AREA</th>\n",
       "      <th>INT_SQFT</th>\n",
       "      <th>DATE_SALE</th>\n",
       "      <th>DIST_MAINROAD</th>\n",
       "      <th>N_BEDROOM</th>\n",
       "      <th>N_BATHROOM</th>\n",
       "      <th>N_ROOM</th>\n",
       "      <th>SALE_COND</th>\n",
       "      <th>PARK_FACIL</th>\n",
       "      <th>...</th>\n",
       "      <th>UTILITY_AVAIL</th>\n",
       "      <th>STREET</th>\n",
       "      <th>MZZONE</th>\n",
       "      <th>QS_ROOMS</th>\n",
       "      <th>QS_BATHROOM</th>\n",
       "      <th>QS_BEDROOM</th>\n",
       "      <th>QS_OVERALL</th>\n",
       "      <th>REG_FEE</th>\n",
       "      <th>COMMIS</th>\n",
       "      <th>SALES_PRICE</th>\n",
       "    </tr>\n",
       "  </thead>\n",
       "  <tbody>\n",
       "    <tr>\n",
       "      <th>0</th>\n",
       "      <td>P03210</td>\n",
       "      <td>Karapakkam</td>\n",
       "      <td>1004</td>\n",
       "      <td>04-05-2011</td>\n",
       "      <td>131</td>\n",
       "      <td>1.0</td>\n",
       "      <td>1.0</td>\n",
       "      <td>3</td>\n",
       "      <td>AbNormal</td>\n",
       "      <td>Yes</td>\n",
       "      <td>...</td>\n",
       "      <td>AllPub</td>\n",
       "      <td>Paved</td>\n",
       "      <td>A</td>\n",
       "      <td>4.0</td>\n",
       "      <td>3.9</td>\n",
       "      <td>4.9</td>\n",
       "      <td>4.330</td>\n",
       "      <td>380000</td>\n",
       "      <td>144400</td>\n",
       "      <td>7600000</td>\n",
       "    </tr>\n",
       "    <tr>\n",
       "      <th>1</th>\n",
       "      <td>P09411</td>\n",
       "      <td>Anna Nagar</td>\n",
       "      <td>1986</td>\n",
       "      <td>19-12-2006</td>\n",
       "      <td>26</td>\n",
       "      <td>2.0</td>\n",
       "      <td>1.0</td>\n",
       "      <td>5</td>\n",
       "      <td>AbNormal</td>\n",
       "      <td>No</td>\n",
       "      <td>...</td>\n",
       "      <td>AllPub</td>\n",
       "      <td>Gravel</td>\n",
       "      <td>RH</td>\n",
       "      <td>4.9</td>\n",
       "      <td>4.2</td>\n",
       "      <td>2.5</td>\n",
       "      <td>3.765</td>\n",
       "      <td>760122</td>\n",
       "      <td>304049</td>\n",
       "      <td>21717770</td>\n",
       "    </tr>\n",
       "    <tr>\n",
       "      <th>2</th>\n",
       "      <td>P01812</td>\n",
       "      <td>Adyar</td>\n",
       "      <td>909</td>\n",
       "      <td>04-02-2012</td>\n",
       "      <td>70</td>\n",
       "      <td>1.0</td>\n",
       "      <td>1.0</td>\n",
       "      <td>3</td>\n",
       "      <td>AbNormal</td>\n",
       "      <td>Yes</td>\n",
       "      <td>...</td>\n",
       "      <td>ELO</td>\n",
       "      <td>Gravel</td>\n",
       "      <td>RL</td>\n",
       "      <td>4.1</td>\n",
       "      <td>3.8</td>\n",
       "      <td>2.2</td>\n",
       "      <td>3.090</td>\n",
       "      <td>421094</td>\n",
       "      <td>92114</td>\n",
       "      <td>13159200</td>\n",
       "    </tr>\n",
       "    <tr>\n",
       "      <th>3</th>\n",
       "      <td>P05346</td>\n",
       "      <td>Velachery</td>\n",
       "      <td>1855</td>\n",
       "      <td>13-03-2010</td>\n",
       "      <td>14</td>\n",
       "      <td>3.0</td>\n",
       "      <td>2.0</td>\n",
       "      <td>5</td>\n",
       "      <td>Family</td>\n",
       "      <td>No</td>\n",
       "      <td>...</td>\n",
       "      <td>NoSewr</td>\n",
       "      <td>Paved</td>\n",
       "      <td>I</td>\n",
       "      <td>4.7</td>\n",
       "      <td>3.9</td>\n",
       "      <td>3.6</td>\n",
       "      <td>4.010</td>\n",
       "      <td>356321</td>\n",
       "      <td>77042</td>\n",
       "      <td>9630290</td>\n",
       "    </tr>\n",
       "    <tr>\n",
       "      <th>4</th>\n",
       "      <td>P06210</td>\n",
       "      <td>Karapakkam</td>\n",
       "      <td>1226</td>\n",
       "      <td>05-10-2009</td>\n",
       "      <td>84</td>\n",
       "      <td>1.0</td>\n",
       "      <td>1.0</td>\n",
       "      <td>3</td>\n",
       "      <td>AbNormal</td>\n",
       "      <td>Yes</td>\n",
       "      <td>...</td>\n",
       "      <td>AllPub</td>\n",
       "      <td>Gravel</td>\n",
       "      <td>C</td>\n",
       "      <td>3.0</td>\n",
       "      <td>2.5</td>\n",
       "      <td>4.1</td>\n",
       "      <td>3.290</td>\n",
       "      <td>237000</td>\n",
       "      <td>74063</td>\n",
       "      <td>7406250</td>\n",
       "    </tr>\n",
       "  </tbody>\n",
       "</table>\n",
       "<p>5 rows × 22 columns</p>\n",
       "</div>"
      ],
      "text/plain": [
       "   PRT_ID        AREA  INT_SQFT   DATE_SALE  DIST_MAINROAD  N_BEDROOM  \\\n",
       "0  P03210  Karapakkam      1004  04-05-2011            131        1.0   \n",
       "1  P09411  Anna Nagar      1986  19-12-2006             26        2.0   \n",
       "2  P01812       Adyar       909  04-02-2012             70        1.0   \n",
       "3  P05346   Velachery      1855  13-03-2010             14        3.0   \n",
       "4  P06210  Karapakkam      1226  05-10-2009             84        1.0   \n",
       "\n",
       "   N_BATHROOM  N_ROOM SALE_COND PARK_FACIL  ... UTILITY_AVAIL  STREET MZZONE  \\\n",
       "0         1.0       3  AbNormal        Yes  ...        AllPub   Paved      A   \n",
       "1         1.0       5  AbNormal         No  ...        AllPub  Gravel     RH   \n",
       "2         1.0       3  AbNormal        Yes  ...           ELO  Gravel     RL   \n",
       "3         2.0       5    Family         No  ...       NoSewr    Paved      I   \n",
       "4         1.0       3  AbNormal        Yes  ...        AllPub  Gravel      C   \n",
       "\n",
       "  QS_ROOMS QS_BATHROOM  QS_BEDROOM  QS_OVERALL  REG_FEE  COMMIS  SALES_PRICE  \n",
       "0      4.0         3.9         4.9       4.330   380000  144400      7600000  \n",
       "1      4.9         4.2         2.5       3.765   760122  304049     21717770  \n",
       "2      4.1         3.8         2.2       3.090   421094   92114     13159200  \n",
       "3      4.7         3.9         3.6       4.010   356321   77042      9630290  \n",
       "4      3.0         2.5         4.1       3.290   237000   74063      7406250  \n",
       "\n",
       "[5 rows x 22 columns]"
      ]
     },
     "execution_count": 35,
     "metadata": {},
     "output_type": "execute_result"
    }
   ],
   "source": [
    "data.head()"
   ]
  },
  {
   "cell_type": "code",
   "execution_count": 36,
   "id": "552d878f",
   "metadata": {},
   "outputs": [],
   "source": [
    "data['TOTAL_PRICE']=data['REG_FEE']+data['COMMIS']+data['SALES_PRICE']"
   ]
  },
  {
   "cell_type": "code",
   "execution_count": null,
   "id": "274b00d8",
   "metadata": {},
   "outputs": [],
   "source": []
  },
  {
   "cell_type": "code",
   "execution_count": 37,
   "id": "2defa4af",
   "metadata": {},
   "outputs": [],
   "source": [
    "data.drop(['REG_FEE','COMMIS','PRT_ID','SALES_PRICE'],axis=1, inplace=True)"
   ]
  },
  {
   "cell_type": "code",
   "execution_count": 38,
   "id": "c9bf2e7b",
   "metadata": {},
   "outputs": [
    {
     "data": {
      "text/html": [
       "<div>\n",
       "<style scoped>\n",
       "    .dataframe tbody tr th:only-of-type {\n",
       "        vertical-align: middle;\n",
       "    }\n",
       "\n",
       "    .dataframe tbody tr th {\n",
       "        vertical-align: top;\n",
       "    }\n",
       "\n",
       "    .dataframe thead th {\n",
       "        text-align: right;\n",
       "    }\n",
       "</style>\n",
       "<table border=\"1\" class=\"dataframe\">\n",
       "  <thead>\n",
       "    <tr style=\"text-align: right;\">\n",
       "      <th></th>\n",
       "      <th>AREA</th>\n",
       "      <th>INT_SQFT</th>\n",
       "      <th>DATE_SALE</th>\n",
       "      <th>DIST_MAINROAD</th>\n",
       "      <th>N_BEDROOM</th>\n",
       "      <th>N_BATHROOM</th>\n",
       "      <th>N_ROOM</th>\n",
       "      <th>SALE_COND</th>\n",
       "      <th>PARK_FACIL</th>\n",
       "      <th>DATE_BUILD</th>\n",
       "      <th>BUILDTYPE</th>\n",
       "      <th>UTILITY_AVAIL</th>\n",
       "      <th>STREET</th>\n",
       "      <th>MZZONE</th>\n",
       "      <th>QS_ROOMS</th>\n",
       "      <th>QS_BATHROOM</th>\n",
       "      <th>QS_BEDROOM</th>\n",
       "      <th>QS_OVERALL</th>\n",
       "      <th>TOTAL_PRICE</th>\n",
       "    </tr>\n",
       "  </thead>\n",
       "  <tbody>\n",
       "    <tr>\n",
       "      <th>0</th>\n",
       "      <td>Karapakkam</td>\n",
       "      <td>1004</td>\n",
       "      <td>04-05-2011</td>\n",
       "      <td>131</td>\n",
       "      <td>1.0</td>\n",
       "      <td>1.0</td>\n",
       "      <td>3</td>\n",
       "      <td>AbNormal</td>\n",
       "      <td>Yes</td>\n",
       "      <td>15-05-1967</td>\n",
       "      <td>Commercial</td>\n",
       "      <td>AllPub</td>\n",
       "      <td>Paved</td>\n",
       "      <td>A</td>\n",
       "      <td>4.0</td>\n",
       "      <td>3.9</td>\n",
       "      <td>4.9</td>\n",
       "      <td>4.330</td>\n",
       "      <td>8124400</td>\n",
       "    </tr>\n",
       "    <tr>\n",
       "      <th>1</th>\n",
       "      <td>Anna Nagar</td>\n",
       "      <td>1986</td>\n",
       "      <td>19-12-2006</td>\n",
       "      <td>26</td>\n",
       "      <td>2.0</td>\n",
       "      <td>1.0</td>\n",
       "      <td>5</td>\n",
       "      <td>AbNormal</td>\n",
       "      <td>No</td>\n",
       "      <td>22-12-1995</td>\n",
       "      <td>Commercial</td>\n",
       "      <td>AllPub</td>\n",
       "      <td>Gravel</td>\n",
       "      <td>RH</td>\n",
       "      <td>4.9</td>\n",
       "      <td>4.2</td>\n",
       "      <td>2.5</td>\n",
       "      <td>3.765</td>\n",
       "      <td>22781941</td>\n",
       "    </tr>\n",
       "    <tr>\n",
       "      <th>2</th>\n",
       "      <td>Adyar</td>\n",
       "      <td>909</td>\n",
       "      <td>04-02-2012</td>\n",
       "      <td>70</td>\n",
       "      <td>1.0</td>\n",
       "      <td>1.0</td>\n",
       "      <td>3</td>\n",
       "      <td>AbNormal</td>\n",
       "      <td>Yes</td>\n",
       "      <td>09-02-1992</td>\n",
       "      <td>Commercial</td>\n",
       "      <td>ELO</td>\n",
       "      <td>Gravel</td>\n",
       "      <td>RL</td>\n",
       "      <td>4.1</td>\n",
       "      <td>3.8</td>\n",
       "      <td>2.2</td>\n",
       "      <td>3.090</td>\n",
       "      <td>13672408</td>\n",
       "    </tr>\n",
       "    <tr>\n",
       "      <th>3</th>\n",
       "      <td>Velachery</td>\n",
       "      <td>1855</td>\n",
       "      <td>13-03-2010</td>\n",
       "      <td>14</td>\n",
       "      <td>3.0</td>\n",
       "      <td>2.0</td>\n",
       "      <td>5</td>\n",
       "      <td>Family</td>\n",
       "      <td>No</td>\n",
       "      <td>18-03-1988</td>\n",
       "      <td>Others</td>\n",
       "      <td>NoSewr</td>\n",
       "      <td>Paved</td>\n",
       "      <td>I</td>\n",
       "      <td>4.7</td>\n",
       "      <td>3.9</td>\n",
       "      <td>3.6</td>\n",
       "      <td>4.010</td>\n",
       "      <td>10063653</td>\n",
       "    </tr>\n",
       "    <tr>\n",
       "      <th>4</th>\n",
       "      <td>Karapakkam</td>\n",
       "      <td>1226</td>\n",
       "      <td>05-10-2009</td>\n",
       "      <td>84</td>\n",
       "      <td>1.0</td>\n",
       "      <td>1.0</td>\n",
       "      <td>3</td>\n",
       "      <td>AbNormal</td>\n",
       "      <td>Yes</td>\n",
       "      <td>13-10-1979</td>\n",
       "      <td>Others</td>\n",
       "      <td>AllPub</td>\n",
       "      <td>Gravel</td>\n",
       "      <td>C</td>\n",
       "      <td>3.0</td>\n",
       "      <td>2.5</td>\n",
       "      <td>4.1</td>\n",
       "      <td>3.290</td>\n",
       "      <td>7717313</td>\n",
       "    </tr>\n",
       "  </tbody>\n",
       "</table>\n",
       "</div>"
      ],
      "text/plain": [
       "         AREA  INT_SQFT   DATE_SALE  DIST_MAINROAD  N_BEDROOM  N_BATHROOM  \\\n",
       "0  Karapakkam      1004  04-05-2011            131        1.0         1.0   \n",
       "1  Anna Nagar      1986  19-12-2006             26        2.0         1.0   \n",
       "2       Adyar       909  04-02-2012             70        1.0         1.0   \n",
       "3   Velachery      1855  13-03-2010             14        3.0         2.0   \n",
       "4  Karapakkam      1226  05-10-2009             84        1.0         1.0   \n",
       "\n",
       "   N_ROOM SALE_COND PARK_FACIL  DATE_BUILD   BUILDTYPE UTILITY_AVAIL  STREET  \\\n",
       "0       3  AbNormal        Yes  15-05-1967  Commercial        AllPub   Paved   \n",
       "1       5  AbNormal         No  22-12-1995  Commercial        AllPub  Gravel   \n",
       "2       3  AbNormal        Yes  09-02-1992  Commercial           ELO  Gravel   \n",
       "3       5    Family         No  18-03-1988      Others       NoSewr    Paved   \n",
       "4       3  AbNormal        Yes  13-10-1979      Others        AllPub  Gravel   \n",
       "\n",
       "  MZZONE  QS_ROOMS  QS_BATHROOM  QS_BEDROOM  QS_OVERALL  TOTAL_PRICE  \n",
       "0      A       4.0          3.9         4.9       4.330      8124400  \n",
       "1     RH       4.9          4.2         2.5       3.765     22781941  \n",
       "2     RL       4.1          3.8         2.2       3.090     13672408  \n",
       "3      I       4.7          3.9         3.6       4.010     10063653  \n",
       "4      C       3.0          2.5         4.1       3.290      7717313  "
      ]
     },
     "execution_count": 38,
     "metadata": {},
     "output_type": "execute_result"
    }
   ],
   "source": [
    "data.head()"
   ]
  },
  {
   "cell_type": "code",
   "execution_count": 39,
   "id": "6750ee4a",
   "metadata": {},
   "outputs": [],
   "source": [
    "x_train, x_test, y_train, y_test = train_test_split(data.loc[:,:'QS_OVERALL'], data['TOTAL_PRICE'],test_size=0.15)"
   ]
  },
  {
   "cell_type": "code",
   "execution_count": 40,
   "id": "4a7fd56a",
   "metadata": {},
   "outputs": [
    {
     "data": {
      "text/plain": [
       "((6042, 18), (1067, 18))"
      ]
     },
     "execution_count": 40,
     "metadata": {},
     "output_type": "execute_result"
    }
   ],
   "source": [
    "x_train.shape, x_test.shape"
   ]
  },
  {
   "cell_type": "markdown",
   "id": "49c30abd",
   "metadata": {},
   "source": [
    "## -- Fixing redundancy of values in object datatype features --"
   ]
  },
  {
   "cell_type": "code",
   "execution_count": 41,
   "id": "3e1320a2",
   "metadata": {},
   "outputs": [],
   "source": [
    "# Getting all features with object datatype in obj_features variable\n",
    "obj_features=[features for features in data.columns if data[features].dtypes=='object' and 'DATE' not in features]"
   ]
  },
  {
   "cell_type": "code",
   "execution_count": 42,
   "id": "6d5db55e",
   "metadata": {},
   "outputs": [],
   "source": [
    "val_dict={'AREA':{'Karapakkam':['Karapakam'], 'Anna Nagar':['Ana Nagar', 'Ann Nagar'], 'Adyar':['Adyr'], 'Velachery':['Velchery'], \n",
    " 'Chrompet':['Chrompt', 'Chrmpet', 'Chormpet'], 'KK Nagar':['KKNagar'],'T Nagar': ['TNagar']},\n",
    "'SALE_COND':{'AbNormal':['Ab Normal'], 'Partial':['Partiall', 'PartiaLl'], 'AdjLand':['Adj Land']},\n",
    "'PARK_FACIL': {'No':['Noo']},\n",
    "'BUILDTYPE':{'Commercial':['Comercial'], 'Others': ['Other']},\n",
    "'UTILITY_AVAIL': {'AllPub':['All Pub'], 'NoSewa': ['NoSewr ','NoSwer','NoSeWa'], },\n",
    "'STREET': {'Paved':['Pavd'], 'No Access':['NoAccess']}\n",
    "\n",
    "}"
   ]
  },
  {
   "cell_type": "code",
   "execution_count": 43,
   "id": "17d4a083",
   "metadata": {},
   "outputs": [],
   "source": [
    "# Replacing all misspelled values with original values\n",
    "def reduce_redundant_val(data,val_dict):\n",
    "    for feature in val_dict:\n",
    "        for classes in val_dict[feature]:\n",
    "            for val in val_dict[feature][classes]:\n",
    "                data[feature]=data[feature].replace(val,classes)"
   ]
  },
  {
   "cell_type": "code",
   "execution_count": 44,
   "id": "a08544b4",
   "metadata": {},
   "outputs": [],
   "source": [
    "reduce_redundant_val(x_train,val_dict)\n",
    "reduce_redundant_val(x_test,val_dict)"
   ]
  },
  {
   "cell_type": "code",
   "execution_count": 48,
   "id": "04e62b80",
   "metadata": {},
   "outputs": [
    {
     "name": "stdout",
     "output_type": "stream",
     "text": [
      "AREA : ['Chrompet' 'Adyar' 'KK Nagar' 'T Nagar' 'Karapakkam' 'Anna Nagar'\n",
      " 'Velachery']\n",
      "SALE_COND : ['AdjLand' 'AbNormal' 'Partial' 'Normal Sale' 'Family']\n",
      "PARK_FACIL : ['Yes' 'No']\n",
      "BUILDTYPE : ['Commercial' 'House' 'Others']\n",
      "UTILITY_AVAIL : ['NoSewa' 'AllPub' 'ELO']\n",
      "STREET : ['No Access' 'Gravel' 'Paved']\n",
      "MZZONE : ['RL' 'RM' 'A' 'RH' 'I' 'C']\n"
     ]
    }
   ],
   "source": [
    "for features in obj_features:\n",
    "    print(features,\":\",x_train[features].unique())"
   ]
  },
  {
   "cell_type": "markdown",
   "id": "5126b1dd",
   "metadata": {},
   "source": [
    "## -- Performing Label Encoding over Object Datatype Features --"
   ]
  },
  {
   "cell_type": "code",
   "execution_count": null,
   "id": "faee0b42",
   "metadata": {},
   "outputs": [],
   "source": [
    "label_encoder=LabelEncoder()\n",
    "for feature in obj_features:\n",
    "    label_encoder.fit(x_train[feature])\n",
    "    x_train[feature+'_enc']=label_encoder.transform(x_train[feature])\n",
    "    x_test[feature+'_enc']=label_encoder.transform(x_test[feature])"
   ]
  },
  {
   "cell_type": "code",
   "execution_count": null,
   "id": "efb9301f",
   "metadata": {},
   "outputs": [],
   "source": [
    "x_train.drop(obj_features,axis=1,inplace=True)\n",
    "x_test.drop(obj_features,axis=1,inplace=True)"
   ]
  },
  {
   "cell_type": "code",
   "execution_count": null,
   "id": "79d6952e",
   "metadata": {},
   "outputs": [],
   "source": [
    "x_train.head()"
   ]
  },
  {
   "cell_type": "markdown",
   "id": "04724d3f",
   "metadata": {},
   "source": [
    "## -- Converting Temporal data to Numeric feature --"
   ]
  },
  {
   "cell_type": "code",
   "execution_count": null,
   "id": "97eb6193",
   "metadata": {},
   "outputs": [],
   "source": [
    "# Converting DATE_SALE and DATE_BUILD feature to House_age feature\n",
    "\n",
    "x_train['DATE_BUILD']=pd.to_datetime(x_train['DATE_BUILD'],format='%d-%M-%Y')\n",
    "x_train['DATE_SALE']=pd.to_datetime(x_train['DATE_SALE'],format='%d-%M-%Y')\n",
    "\n",
    "x_train['HOUSE_AGE']=x_train['DATE_SALE'].dt.year-x_train['DATE_BUILD'].dt.year\n",
    "\n",
    "x_train.drop(['DATE_BUILD', 'DATE_SALE'],axis=1,inplace=True)"
   ]
  },
  {
   "cell_type": "code",
   "execution_count": null,
   "id": "e2876565",
   "metadata": {},
   "outputs": [],
   "source": [
    "x_train.head()"
   ]
  },
  {
   "cell_type": "code",
   "execution_count": null,
   "id": "3c5965fd",
   "metadata": {},
   "outputs": [],
   "source": [
    "x_test['DATE_BUILD']=pd.to_datetime(x_test['DATE_BUILD'],format='%d-%M-%Y')\n",
    "x_test['DATE_SALE']=pd.to_datetime(x_test['DATE_SALE'],format='%d-%M-%Y')\n",
    "\n",
    "x_test['HOUSE_AGE']=x_test['DATE_SALE'].dt.year-x_test['DATE_BUILD'].dt.year\n",
    "\n",
    "x_test.drop(['DATE_BUILD', 'DATE_SALE'],axis=1,inplace=True)"
   ]
  },
  {
   "cell_type": "code",
   "execution_count": null,
   "id": "15006b33",
   "metadata": {},
   "outputs": [],
   "source": [
    "x_test.head()"
   ]
  },
  {
   "cell_type": "markdown",
   "id": "edc3c264",
   "metadata": {},
   "source": [
    "## -- Imputing Missing values in training and test data --"
   ]
  },
  {
   "cell_type": "code",
   "execution_count": null,
   "id": "2759656e",
   "metadata": {},
   "outputs": [],
   "source": [
    "imputer=KNNImputer()"
   ]
  },
  {
   "cell_type": "code",
   "execution_count": null,
   "id": "5c4a60b1",
   "metadata": {},
   "outputs": [],
   "source": [
    "imputer.fit(x_train)"
   ]
  },
  {
   "cell_type": "code",
   "execution_count": null,
   "id": "cbe780bc",
   "metadata": {},
   "outputs": [],
   "source": [
    "x_train=pd.DataFrame(imputer.transform(x_train),columns=x_train.columns)\n",
    "x_test=pd.DataFrame(imputer.transform(x_test),columns=x_test.columns)"
   ]
  },
  {
   "cell_type": "code",
   "execution_count": null,
   "id": "25ef2630",
   "metadata": {},
   "outputs": [],
   "source": [
    "x_test.head()"
   ]
  },
  {
   "cell_type": "markdown",
   "id": "5aa8f73e",
   "metadata": {},
   "source": [
    "## -- Feature Scaling --"
   ]
  },
  {
   "cell_type": "code",
   "execution_count": null,
   "id": "7c9c6e4c",
   "metadata": {},
   "outputs": [],
   "source": [
    "scale=StandardScaler()"
   ]
  },
  {
   "cell_type": "code",
   "execution_count": null,
   "id": "91e951e9",
   "metadata": {},
   "outputs": [],
   "source": [
    "scale.fit(x_train)"
   ]
  },
  {
   "cell_type": "code",
   "execution_count": null,
   "id": "6b400df3",
   "metadata": {},
   "outputs": [],
   "source": [
    "scale_x_train=pd.DataFrame(scale.transform(x_train),columns=x_train.columns)\n",
    "scale_x_test=pd.DataFrame(scale.transform(x_test),columns=x_test.columns)"
   ]
  },
  {
   "cell_type": "markdown",
   "id": "dcbcea80",
   "metadata": {},
   "source": [
    "## -- Feature Selection --"
   ]
  },
  {
   "cell_type": "code",
   "execution_count": null,
   "id": "500f116a",
   "metadata": {},
   "outputs": [],
   "source": [
    "k_features=SelectKBest(mutual_info_regression,k=8)"
   ]
  },
  {
   "cell_type": "code",
   "execution_count": null,
   "id": "5e018480",
   "metadata": {},
   "outputs": [],
   "source": [
    "k_features.fit(scale_x_train,y_train)"
   ]
  },
  {
   "cell_type": "code",
   "execution_count": null,
   "id": "7b1531cd",
   "metadata": {},
   "outputs": [],
   "source": [
    "k_features.transform(scale_x_train)\n",
    "scale_x_train=scale_x_train[k_features.get_feature_names_out()]\n",
    "scale_x_test=scale_x_test[k_features.get_feature_names_out()]"
   ]
  },
  {
   "cell_type": "code",
   "execution_count": null,
   "id": "73753757",
   "metadata": {},
   "outputs": [],
   "source": [
    "scale_x_train.head()"
   ]
  },
  {
   "cell_type": "code",
   "execution_count": null,
   "id": "f41e7539",
   "metadata": {},
   "outputs": [],
   "source": []
  },
  {
   "cell_type": "code",
   "execution_count": null,
   "id": "ec66a944",
   "metadata": {},
   "outputs": [],
   "source": []
  },
  {
   "cell_type": "code",
   "execution_count": null,
   "id": "bf30dcbb",
   "metadata": {},
   "outputs": [],
   "source": [
    "# scale_x_train.to_csv('../Data/processed_data/x_train.csv',index=False)\n",
    "# scale_x_test.to_csv('../Data/processed_data/x_test.csv',index=False)\n",
    "# y_train.to_csv('../Data/processed_data/y_train.csv',index=False)\n",
    "# y_test.to_csv('../Data/processed_data/y_test.csv',index=False)"
   ]
  },
  {
   "cell_type": "code",
   "execution_count": null,
   "id": "acf38f92",
   "metadata": {},
   "outputs": [],
   "source": []
  }
 ],
 "metadata": {
  "kernelspec": {
   "display_name": "Python 3 (ipykernel)",
   "language": "python",
   "name": "python3"
  },
  "language_info": {
   "codemirror_mode": {
    "name": "ipython",
    "version": 3
   },
   "file_extension": ".py",
   "mimetype": "text/x-python",
   "name": "python",
   "nbconvert_exporter": "python",
   "pygments_lexer": "ipython3",
   "version": "3.11.5"
  }
 },
 "nbformat": 4,
 "nbformat_minor": 5
}
